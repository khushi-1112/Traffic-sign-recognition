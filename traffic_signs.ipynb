{
 "cells": [
  {
   "cell_type": "code",
   "execution_count": 1,
   "id": "b279dcd1",
   "metadata": {},
   "outputs": [],
   "source": [
    "import numpy as np \n",
    "import pandas as pd \n",
    "import matplotlib.pyplot as plt\n",
    "import cv2\n",
    "import tensorflow as tf\n",
    "from PIL import Image\n",
    "import os\n",
    "from sklearn.model_selection import train_test_split\n",
    "from keras.utils import to_categorical\n",
    "from keras.models import Sequential, load_model\n",
    "from keras.layers import Conv2D, MaxPool2D, Dense, Flatten, Dropout\n",
    "\n",
    "data = []\n",
    "labels = []\n",
    "classes = 43\n",
    "cur_path = os.getcwd() #extracts the path of current working directory\n",
    "\n",
    "#Retrieving the images and their labels \n",
    "for i in range(classes):\n",
    "    path = os.path.join(cur_path,'train',str(i))\n",
    "    images = os.listdir(path)\n",
    "\n",
    "    for a in images:\n",
    "        try:\n",
    "            image = Image.open(path + '\\\\'+ a)\n",
    "            image = image.resize((30,30))\n",
    "            image = np.array(image)\n",
    "            #sim = Image.fromarray(image)\n",
    "            data.append(image)\n",
    "            labels.append(i)\n",
    "        except:\n",
    "            print(\"Error loading image\")"
   ]
  },
  {
   "cell_type": "code",
   "execution_count": 2,
   "id": "1da3be39",
   "metadata": {},
   "outputs": [
    {
     "name": "stdout",
     "output_type": "stream",
     "text": [
      "(39209, 30, 30, 3) (39209,)\n",
      "(31367, 30, 30, 3) (7842, 30, 30, 3) (31367,) (7842,)\n"
     ]
    }
   ],
   "source": [
    "#Converting lists into numpy arrays\n",
    "data = np.array(data)\n",
    "labels = np.array(labels)\n",
    "\n",
    "print(data.shape, labels.shape)\n",
    "#Splitting training and testing dataset\n",
    "X_train, X_test, y_train, y_test = train_test_split(data, labels, test_size=0.2, random_state=42)\n",
    "\n",
    "print(X_train.shape, X_test.shape, y_train.shape, y_test.shape)\n",
    "\n",
    "#Converting the labels into one hot encoding\n",
    "y_train = to_categorical(y_train, 43)\n",
    "y_test = to_categorical(y_test, 43)"
   ]
  },
  {
   "cell_type": "code",
   "execution_count": 3,
   "id": "f2d6d40b",
   "metadata": {},
   "outputs": [],
   "source": [
    "#Building the model\n",
    "model = Sequential()\n",
    "model.add(Conv2D(filters=32, kernel_size=(5,5), activation='relu', input_shape=X_train.shape[1:])) #this is the input layer for the model\n",
    "model.add(Conv2D(filters=32, kernel_size=(5,5), activation='relu'))\n",
    "model.add(MaxPool2D(pool_size=(2, 2)))\n",
    "model.add(Dropout(rate=0.25))\n",
    "model.add(Conv2D(filters=64, kernel_size=(3, 3), activation='relu'))\n",
    "model.add(Conv2D(filters=64, kernel_size=(3, 3), activation='relu'))\n",
    "model.add(MaxPool2D(pool_size=(2, 2)))\n",
    "model.add(Dropout(rate=0.25))\n",
    "model.add(Flatten())\n",
    "model.add(Dense(256, activation='relu'))\n",
    "model.add(Dropout(rate=0.5))\n",
    "model.add(Dense(43, activation='softmax'))\n",
    "\n",
    "#Compilation of the model\n",
    "model.compile(loss='categorical_crossentropy', optimizer='adam', metrics=['accuracy']) #adam - leaning rate optimizer\n"
   ]
  },
  {
   "cell_type": "code",
   "execution_count": 4,
   "id": "5b17659e",
   "metadata": {
    "scrolled": true
   },
   "outputs": [
    {
     "name": "stdout",
     "output_type": "stream",
     "text": [
      "Epoch 1/15\n",
      "981/981 [==============================] - 99s 99ms/step - loss: 2.0728 - accuracy: 0.4531 - val_loss: 0.6470 - val_accuracy: 0.8068\n",
      "Epoch 2/15\n",
      "981/981 [==============================] - 97s 99ms/step - loss: 0.7740 - accuracy: 0.7663 - val_loss: 0.2474 - val_accuracy: 0.9291\n",
      "Epoch 3/15\n",
      "981/981 [==============================] - 87s 89ms/step - loss: 0.5317 - accuracy: 0.8416 - val_loss: 0.1510 - val_accuracy: 0.9542\n",
      "Epoch 4/15\n",
      "981/981 [==============================] - 91s 93ms/step - loss: 0.3957 - accuracy: 0.8815 - val_loss: 0.1218 - val_accuracy: 0.9651\n",
      "Epoch 5/15\n",
      "981/981 [==============================] - 88s 90ms/step - loss: 0.3509 - accuracy: 0.8970 - val_loss: 0.0957 - val_accuracy: 0.9716\n",
      "Epoch 6/15\n",
      "981/981 [==============================] - 86s 88ms/step - loss: 0.3096 - accuracy: 0.9123 - val_loss: 0.0845 - val_accuracy: 0.9774\n",
      "Epoch 7/15\n",
      "981/981 [==============================] - 87s 89ms/step - loss: 0.2835 - accuracy: 0.9180 - val_loss: 0.0716 - val_accuracy: 0.9807\n",
      "Epoch 8/15\n",
      "981/981 [==============================] - 88s 89ms/step - loss: 0.2727 - accuracy: 0.9207 - val_loss: 0.1088 - val_accuracy: 0.9698\n",
      "Epoch 9/15\n",
      "981/981 [==============================] - 88s 90ms/step - loss: 0.2867 - accuracy: 0.9193 - val_loss: 0.0707 - val_accuracy: 0.9791\n",
      "Epoch 10/15\n",
      "981/981 [==============================] - 95s 97ms/step - loss: 0.2327 - accuracy: 0.9325 - val_loss: 0.0594 - val_accuracy: 0.9839\n",
      "Epoch 11/15\n",
      "981/981 [==============================] - 94s 96ms/step - loss: 0.2381 - accuracy: 0.9326 - val_loss: 0.0581 - val_accuracy: 0.9830\n",
      "Epoch 12/15\n",
      "981/981 [==============================] - 96s 98ms/step - loss: 0.2180 - accuracy: 0.9379 - val_loss: 0.0572 - val_accuracy: 0.9832\n",
      "Epoch 13/15\n",
      "981/981 [==============================] - 94s 96ms/step - loss: 0.2099 - accuracy: 0.9413 - val_loss: 0.0604 - val_accuracy: 0.9827\n",
      "Epoch 14/15\n",
      "981/981 [==============================] - 93s 95ms/step - loss: 0.2132 - accuracy: 0.9432 - val_loss: 0.0525 - val_accuracy: 0.9856\n",
      "Epoch 15/15\n",
      "981/981 [==============================] - 98s 100ms/step - loss: 0.2135 - accuracy: 0.9415 - val_loss: 0.0934 - val_accuracy: 0.9727\n"
     ]
    }
   ],
   "source": [
    "epochs = 15\n",
    "history = model.fit(X_train, y_train, batch_size=32, epochs=epochs, validation_data=(X_test, y_test))\n",
    "model.save(\"my_model.h5\") #checkpoint\n"
   ]
  },
  {
   "cell_type": "code",
   "execution_count": 5,
   "id": "25687f98",
   "metadata": {},
   "outputs": [
    {
     "data": {
      "image/png": "[encoded data removed]",
      "text/plain": [
       "<Figure size 432x288 with 1 Axes>"
      ]
     },
     "metadata": {
      "needs_background": "light"
     },
     "output_type": "display_data"
    },
    {
     "data": {
      "image/png": "[encoded data removed]",
      "text/plain": [
       "<Figure size 432x288 with 1 Axes>"
      ]
     },
     "metadata": {
      "needs_background": "light"
     },
     "output_type": "display_data"
    }
   ],
   "source": [
    "#plotting graphs for accuracy \n",
    "plt.figure(0)\n",
    "plt.plot(history.history['accuracy'], label='training accuracy')\n",
    "plt.plot(history.history['val_accuracy'], label='val accuracy')\n",
    "plt.title('Accuracy')\n",
    "plt.xlabel('epochs')\n",
    "plt.ylabel('accuracy')\n",
    "plt.legend()\n",
    "plt.show()\n",
    "\n",
    "plt.figure(1)\n",
    "plt.plot(history.history['loss'], label='training loss')\n",
    "plt.plot(history.history['val_loss'], label='val loss')\n",
    "plt.title('Loss')\n",
    "plt.xlabel('epochs')\n",
    "plt.ylabel('loss')\n",
    "plt.legend()\n",
    "plt.show()"
   ]
  },
  {
   "cell_type": "code",
   "execution_count": 16,
   "id": "cb78d33a",
   "metadata": {},
   "outputs": [
    {
     "name": "stdout",
     "output_type": "stream",
     "text": [
      "395/395 [==============================] - 6s 15ms/step\n",
      "0.9328582739509105\n"
     ]
    }
   ],
   "source": [
    "#testing accuracy on test dataset\n",
    "from sklearn.metrics import accuracy_score\n",
    "\n",
    "y_test = pd.read_csv('Test.csv')\n",
    "\n",
    "labels = y_test[\"ClassId\"].values\n",
    "imgs = y_test[\"Path\"].values\n",
    "\n",
    "data=[]\n",
    "\n",
    "for img in imgs:\n",
    "    image = Image.open(img)\n",
    "    image = image.resize((30,30))\n",
    "    data.append(np.array(image))\n",
    "\n",
    "X_test=np.array(data)\n",
    "\n",
    "# Get probability predictions\n",
    "probs = model.predict(X_test)\n",
    "\n",
    "# Convert probability predictions to class labels\n",
    "pred = np.argmax(probs, axis=-1)  # For multi-class classification\n",
    "\n",
    "\n",
    "#Accuracy with the test data\n",
    "from sklearn.metrics import accuracy_score\n",
    "print(accuracy_score(labels, pred))\n"
   ]
  },
  {
   "cell_type": "code",
   "execution_count": 11,
   "id": "f82694f7",
   "metadata": {},
   "outputs": [],
   "source": [
    "model.save(\"traffic_classifier.h5\")"
   ]
  },
  {
   "cell_type": "code",
   "execution_count": null,
   "id": "8b7c8599",
   "metadata": {},
   "outputs": [],
   "source": []
  }
 ],
 "metadata": {
  "kernelspec": {
   "display_name": "Python 3",
   "language": "python",
   "name": "python3"
  },
  "language_info": {
   "codemirror_mode": {
    "name": "ipython",
    "version": 3
   },
   "file_extension": ".py",
   "mimetype": "text/x-python",
   "name": "python",
   "nbconvert_exporter": "python",
   "pygments_lexer": "ipython3",
   "version": "3.8.8"
  }
 },
 "nbformat": 4,
 "nbformat_minor": 5
}
